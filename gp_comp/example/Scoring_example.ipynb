{
 "cells": [
  {
   "cell_type": "code",
   "execution_count": null,
   "metadata": {
    "pycharm": {
     "is_executing": true
    }
   },
   "outputs": [],
   "source": [
    "import os\n",
    "import random\n",
    "\n",
    "import numpy as np\n",
    "from sklearn.metrics import roc_auc_score as roc_auc\n",
    "\n",
    "from gp_comp.example.classes.chain import Chain\n",
    "from gp_comp.example.classes.model import *\n",
    "from gp_comp.example.classes.node import NodeGenerator\n",
    "from gp_comp.example.classes.utils import project_root\n",
    "from gp_comp.example.classes.visualisation import ChainVisualiser"
   ]
  },
  {
   "cell_type": "code",
   "execution_count": null,
   "metadata": {},
   "outputs": [],
   "source": [
    "random.seed(1)\n",
    "np.random.seed(1)\n",
    "\n",
    "def calculate_validation_metric(chain: Chain, dataset_to_validate: InputData) -> float:\n",
    "    # the execution of the obtained composite models\n",
    "    predicted = chain.predict(dataset_to_validate)\n",
    "    # the quality assessment for the simulation results\n",
    "    roc_auc_value = roc_auc(y_true=dataset_to_validate.target,\n",
    "                            y_score=predicted.predict)\n",
    "    return roc_auc_value"
   ]
  },
  {
   "cell_type": "code",
   "execution_count": 2,
   "metadata": {},
   "outputs": [
    {
     "ename": "NameError",
     "evalue": "name 'project_root' is not defined",
     "output_type": "error",
     "traceback": [
      "\u001b[1;31m---------------------------------------------------------------------------\u001b[0m",
      "\u001b[1;31mNameError\u001b[0m                                 Traceback (most recent call last)",
      "\u001b[1;32m<ipython-input-2-3f41360f157e>\u001b[0m in \u001b[0;36m<module>\u001b[1;34m()\u001b[0m\n\u001b[0;32m      3\u001b[0m \u001b[1;31m# a dataset that will be used as a train and test set during composition\u001b[0m\u001b[1;33m\u001b[0m\u001b[1;33m\u001b[0m\u001b[0m\n\u001b[0;32m      4\u001b[0m \u001b[0mfile_path_train\u001b[0m \u001b[1;33m=\u001b[0m \u001b[1;34m'data\\scoring_train.csv'\u001b[0m\u001b[1;33m\u001b[0m\u001b[0m\n\u001b[1;32m----> 5\u001b[1;33m \u001b[0mfull_path_train\u001b[0m \u001b[1;33m=\u001b[0m \u001b[0mos\u001b[0m\u001b[1;33m.\u001b[0m\u001b[0mpath\u001b[0m\u001b[1;33m.\u001b[0m\u001b[0mjoin\u001b[0m\u001b[1;33m(\u001b[0m\u001b[0mstr\u001b[0m\u001b[1;33m(\u001b[0m\u001b[0mproject_root\u001b[0m\u001b[1;33m(\u001b[0m\u001b[1;33m)\u001b[0m\u001b[1;33m)\u001b[0m\u001b[1;33m,\u001b[0m \u001b[0mfile_path_train\u001b[0m\u001b[1;33m)\u001b[0m\u001b[1;33m\u001b[0m\u001b[0m\n\u001b[0m\u001b[0;32m      6\u001b[0m \u001b[0mdataset_to_train\u001b[0m \u001b[1;33m=\u001b[0m \u001b[0mInputData\u001b[0m\u001b[1;33m.\u001b[0m\u001b[0mfrom_csv\u001b[0m\u001b[1;33m(\u001b[0m\u001b[0mfull_path_train\u001b[0m\u001b[1;33m)\u001b[0m\u001b[1;33m\u001b[0m\u001b[0m\n\u001b[0;32m      7\u001b[0m \u001b[1;33m\u001b[0m\u001b[0m\n",
      "\u001b[1;31mNameError\u001b[0m: name 'project_root' is not defined"
     ]
    }
   ],
   "source": [
    "# the dataset was obtained from https://www.kaggle.com/kashnitsky/a5-demo-logit-and-rf-for-credit-scoring\n",
    "\n",
    "# a dataset that will be used as a train and test set during composition\n",
    "file_path_train = 'data\\scoring_train.csv'\n",
    "full_path_train = os.path.join(str(project_root()), file_path_train)\n",
    "dataset_to_train = InputData.from_csv(full_path_train)\n",
    "\n",
    "# a dataset for a final validation of the composed model\n",
    "file_path_test = 'data\\scoring_test.csv'\n",
    "full_path_test = os.path.join(str(project_root()), file_path_test)\n",
    "dataset_to_validate = InputData.from_csv(full_path_test)"
   ]
  },
  {
   "cell_type": "code",
   "execution_count": 3,
   "metadata": {},
   "outputs": [
    {
     "ename": "NameError",
     "evalue": "name 'Chain' is not defined",
     "output_type": "error",
     "traceback": [
      "\u001b[1;31m---------------------------------------------------------------------------\u001b[0m",
      "\u001b[1;31mNameError\u001b[0m                                 Traceback (most recent call last)",
      "\u001b[1;32m<ipython-input-3-f986b0fefac8>\u001b[0m in \u001b[0;36m<module>\u001b[1;34m()\u001b[0m\n\u001b[0;32m      1\u001b[0m \u001b[1;31m# start chain building\u001b[0m\u001b[1;33m\u001b[0m\u001b[1;33m\u001b[0m\u001b[0m\n\u001b[1;32m----> 2\u001b[1;33m \u001b[0mnew_chain\u001b[0m \u001b[1;33m=\u001b[0m \u001b[0mChain\u001b[0m\u001b[1;33m(\u001b[0m\u001b[1;33m)\u001b[0m\u001b[1;33m\u001b[0m\u001b[0m\n\u001b[0m\u001b[0;32m      3\u001b[0m \u001b[1;33m\u001b[0m\u001b[0m\n\u001b[0;32m      4\u001b[0m \u001b[0mlast_node\u001b[0m \u001b[1;33m=\u001b[0m \u001b[0mNodeGenerator\u001b[0m\u001b[1;33m.\u001b[0m\u001b[0msecondary_node\u001b[0m\u001b[1;33m(\u001b[0m\u001b[0mMLP\u001b[0m\u001b[1;33m(\u001b[0m\u001b[1;33m)\u001b[0m\u001b[1;33m)\u001b[0m\u001b[1;33m\u001b[0m\u001b[0m\n\u001b[0;32m      5\u001b[0m \u001b[1;33m\u001b[0m\u001b[0m\n",
      "\u001b[1;31mNameError\u001b[0m: name 'Chain' is not defined"
     ]
    }
   ],
   "source": [
    "# start chain building\n",
    "new_chain = Chain()\n",
    "\n",
    "last_node = NodeGenerator.secondary_node(MLP())\n",
    "\n",
    "y1 = NodeGenerator.primary_node(XGBoost(), dataset_to_train)\n",
    "new_chain.add_node(y1)\n",
    "\n",
    "y2 = NodeGenerator.primary_node(LDA(), dataset_to_train)\n",
    "new_chain.add_node(y2)\n",
    "\n",
    "y3 = NodeGenerator.secondary_node(XGBoost(), [y1, y2])\n",
    "new_chain.add_node(y3)\n",
    "\n",
    "y4 = NodeGenerator.primary_node(KNN(), dataset_to_train)\n",
    "new_chain.add_node(y4)\n",
    "y5 = NodeGenerator.primary_node(DecisionTree(), dataset_to_train)\n",
    "new_chain.add_node(y5)\n",
    "\n",
    "y6 = NodeGenerator.secondary_node(XGBoost(), [y4, y5])\n",
    "new_chain.add_node(y6)\n",
    "\n",
    "last_node.nodes_from = [y3, y6]\n",
    "new_chain.add_node(last_node)"
   ]
  },
  {
   "cell_type": "code",
   "execution_count": null,
   "metadata": {},
   "outputs": [],
   "source": [
    "visualiser = ChainVisualiser()\n",
    "visualiser.visualise(new_chain)\n",
    "\n",
    "# the quality assessment for the obtained composite model\n",
    "roc_on_chain = calculate_validation_metric(new_chain, dataset_to_validate)\n",
    "\n",
    "print(f'ROC AUC is {round(roc_on_chain, 3)}')"
   ]
  }
 ],
 "metadata": {
  "kernelspec": {
   "display_name": "Python 3",
   "language": "python",
   "name": "python3"
  },
  "language_info": {
   "codemirror_mode": {
    "name": "ipython",
    "version": 3
   },
   "file_extension": ".py",
   "mimetype": "text/x-python",
   "name": "python",
   "nbconvert_exporter": "python",
   "pygments_lexer": "ipython3",
   "version": "3.6.5"
  }
 },
 "nbformat": 4,
 "nbformat_minor": 2
}